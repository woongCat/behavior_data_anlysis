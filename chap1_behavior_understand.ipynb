{
 "cells": [
  {
   "cell_type": "code",
   "execution_count": 1,
   "metadata": {},
   "outputs": [],
   "source": [
    "import pandas as pd\n",
    "import numpy as np\n",
    "import statsmodels.formula.api as smf\n",
    "from statsmodels.formula.api import ols\n",
    "import matplotlib.pyplot as pit # 그래픽용\n",
    "import seaborn as sns # 그래픽용"
   ]
  },
  {
   "cell_type": "code",
   "execution_count": 2,
   "metadata": {},
   "outputs": [],
   "source": [
    "stand_data_df = pd.read_csv('chap1-stand_data.csv')"
   ]
  },
  {
   "cell_type": "code",
   "execution_count": 3,
   "metadata": {},
   "outputs": [
    {
     "name": "stdout",
     "output_type": "stream",
     "text": [
      "                            OLS Regression Results                            \n",
      "==============================================================================\n",
      "Dep. Variable:         icecream_sales   R-squared:                       0.875\n",
      "Model:                            OLS   Adj. R-squared:                  0.875\n",
      "Method:                 Least Squares   F-statistic:                 1.684e+04\n",
      "Date:                Tue, 21 Jan 2025   Prob (F-statistic):               0.00\n",
      "Time:                        16:02:12   Log-Likelihood:                -25183.\n",
      "No. Observations:                2400   AIC:                         5.037e+04\n",
      "Df Residuals:                    2398   BIC:                         5.038e+04\n",
      "Df Model:                           1                                         \n",
      "Covariance Type:            nonrobust                                         \n",
      "==============================================================================\n",
      "                 coef    std err          t      P>|t|      [0.025      0.975]\n",
      "------------------------------------------------------------------------------\n",
      "Intercept  -6169.8442    531.506    -11.608      0.000   -7212.103   -5127.585\n",
      "temps       1171.3354      9.027    129.762      0.000    1153.634    1189.036\n",
      "==============================================================================\n",
      "Omnibus:                      152.269   Durbin-Watson:                   1.029\n",
      "Prob(Omnibus):                  0.000   Jarque-Bera (JB):              232.685\n",
      "Skew:                           0.519   Prob(JB):                     2.97e-51\n",
      "Kurtosis:                       4.118   Cond. No.                         176.\n",
      "==============================================================================\n",
      "\n",
      "Notes:\n",
      "[1] Standard Errors assume that the covariance matrix of the errors is correctly specified.\n"
     ]
    }
   ],
   "source": [
    "# 인과관계가 상관관계가 아닌 이유\n",
    "print(ols(\"icecream_sales ~ temps\", data=stand_data_df).fit().summary())\n",
    "\n"
   ]
  },
  {
   "cell_type": "code",
   "execution_count": 5,
   "metadata": {},
   "outputs": [
    {
     "name": "stdout",
     "output_type": "stream",
     "text": [
      "                            OLS Regression Results                            \n",
      "==============================================================================\n",
      "Dep. Variable:         icecream_sales   R-squared:                       0.944\n",
      "Model:                            OLS   Adj. R-squared:                  0.944\n",
      "Method:                 Least Squares   F-statistic:                 2.016e+04\n",
      "Date:                Tue, 21 Jan 2025   Prob (F-statistic):               0.00\n",
      "Time:                        16:02:57   Log-Likelihood:                -24225.\n",
      "No. Observations:                2400   AIC:                         4.846e+04\n",
      "Df Residuals:                    2397   BIC:                         4.847e+04\n",
      "Df Model:                           2                                         \n",
      "Covariance Type:            nonrobust                                         \n",
      "=================================================================================\n",
      "                    coef    std err          t      P>|t|      [0.025      0.975]\n",
      "---------------------------------------------------------------------------------\n",
      "Intercept        -7.0690    374.401     -0.019      0.985    -741.253     727.115\n",
      "temps          1001.4818      6.822    146.797      0.000     988.104    1014.860\n",
      "summer_months  1.956e+04    361.393     54.115      0.000    1.88e+04    2.03e+04\n",
      "==============================================================================\n",
      "Omnibus:                       65.484   Durbin-Watson:                   1.991\n",
      "Prob(Omnibus):                  0.000   Jarque-Bera (JB):              155.710\n",
      "Skew:                           0.053   Prob(JB):                     1.54e-34\n",
      "Kurtosis:                       4.243   Cond. No.                         207.\n",
      "==============================================================================\n",
      "\n",
      "Notes:\n",
      "[1] Standard Errors assume that the covariance matrix of the errors is correctly specified.\n"
     ]
    }
   ],
   "source": [
    "# 날짜의 영향을 추가한 모델\n",
    "print(ols(\"icecream_sales ~ temps + summer_months\", data=stand_data_df).fit().summary())"
   ]
  },
  {
   "cell_type": "code",
   "execution_count": 4,
   "metadata": {},
   "outputs": [
    {
     "name": "stdout",
     "output_type": "stream",
     "text": [
      "                            OLS Regression Results                            \n",
      "==============================================================================\n",
      "Dep. Variable:         icecream_sales   R-squared:                       0.944\n",
      "Model:                            OLS   Adj. R-squared:                  0.944\n",
      "Method:                 Least Squares   F-statistic:                 1.344e+04\n",
      "Date:                Tue, 21 Jan 2025   Prob (F-statistic):               0.00\n",
      "Time:                        16:02:13   Log-Likelihood:                -24225.\n",
      "No. Observations:                2400   AIC:                         4.846e+04\n",
      "Df Residuals:                    2396   BIC:                         4.848e+04\n",
      "Df Model:                           3                                         \n",
      "Covariance Type:            nonrobust                                         \n",
      "=====================================================================================\n",
      "                        coef    std err          t      P>|t|      [0.025      0.975]\n",
      "-------------------------------------------------------------------------------------\n",
      "Intercept           -15.8271    374.581     -0.042      0.966    -750.363     718.709\n",
      "temps              2702.7885   2083.161      1.297      0.195   -1382.196    6787.773\n",
      "summer_months      1.955e+04    361.572     54.064      0.000    1.88e+04    2.03e+04\n",
      "iced_coffee_sales    -1.7011      2.083     -0.817      0.414      -5.786       2.383\n",
      "==============================================================================\n",
      "Omnibus:                       64.468   Durbin-Watson:                   1.993\n",
      "Prob(Omnibus):                  0.000   Jarque-Bera (JB):              152.500\n",
      "Skew:                           0.048   Prob(JB):                     7.67e-34\n",
      "Kurtosis:                       4.231   Cond. No.                     1.03e+06\n",
      "==============================================================================\n",
      "\n",
      "Notes:\n",
      "[1] Standard Errors assume that the covariance matrix of the errors is correctly specified.\n",
      "[2] The condition number is large, 1.03e+06. This might indicate that there are\n",
      "strong multicollinearity or other numerical problems.\n"
     ]
    }
   ],
   "source": [
    "# 다중공선성\n",
    "print(ols(\"icecream_sales ~ temps + summer_months + iced_coffee_sales\",data=stand_data_df).fit().summary())"
   ]
  },
  {
   "cell_type": "code",
   "execution_count": null,
   "metadata": {},
   "outputs": [],
   "source": []
  }
 ],
 "metadata": {
  "kernelspec": {
   "display_name": "venv",
   "language": "python",
   "name": "python3"
  },
  "language_info": {
   "codemirror_mode": {
    "name": "ipython",
    "version": 3
   },
   "file_extension": ".py",
   "mimetype": "text/x-python",
   "name": "python",
   "nbconvert_exporter": "python",
   "pygments_lexer": "ipython3",
   "version": "3.12.7"
  }
 },
 "nbformat": 4,
 "nbformat_minor": 2
}
