{
 "cells": [
  {
   "cell_type": "code",
   "execution_count": 1,
   "metadata": {},
   "outputs": [],
   "source": [
    "from math import sqrt # 크래머 V 계수 계산용\n",
    "from scipy.stats import chi2_contingency # 크래머 V 계수 계산용\n",
    "import pandas as pd"
   ]
  },
  {
   "cell_type": "code",
   "execution_count": 4,
   "metadata": {},
   "outputs": [],
   "source": [
    "dat_df = pd.read_csv('data/chap4-hotel_booking_case_study.csv')"
   ]
  },
  {
   "cell_type": "code",
   "execution_count": 5,
   "metadata": {},
   "outputs": [
    {
     "name": "stdout",
     "output_type": "stream",
     "text": [
      "                        cnt\n",
      "NRDeposit IsCanceled       \n",
      "0         0           63316\n",
      "          1           23042\n",
      "1         0              55\n",
      "          1             982\n"
     ]
    }
   ],
   "source": [
    "table_cnt = dat_df.groupby(['NRDeposit' , 'IsCanceled']).\\\n",
    "    agg(cnt = ('Country', lambda x : len(x))) # 왜 람다로 국가의 이름 길이로 집계한 거지?\n",
    "    \n",
    "print(table_cnt)"
   ]
  },
  {
   "cell_type": "code",
   "execution_count": null,
   "metadata": {},
   "outputs": [],
   "source": [
    "table_pct = table_cnt.groupby(level=0).apply(lambda)"
   ]
  },
  {
   "cell_type": "code",
   "execution_count": null,
   "metadata": {},
   "outputs": [],
   "source": []
  }
 ],
 "metadata": {
  "kernelspec": {
   "display_name": "venv",
   "language": "python",
   "name": "python3"
  },
  "language_info": {
   "codemirror_mode": {
    "name": "ipython",
    "version": 3
   },
   "file_extension": ".py",
   "mimetype": "text/x-python",
   "name": "python",
   "nbconvert_exporter": "python",
   "pygments_lexer": "ipython3",
   "version": "3.12.7"
  }
 },
 "nbformat": 4,
 "nbformat_minor": 2
}
